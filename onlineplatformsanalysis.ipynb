{
 "cells": [
  {
   "cell_type": "code",
   "execution_count": 27,
   "id": "f847dcec",
   "metadata": {},
   "outputs": [],
   "source": [
    "import pandas as pd\n",
    "import matplotlib.pyplot as plt\n",
    "import seaborn as sns\n",
    "import numpy as np"
   ]
  },
  {
   "cell_type": "code",
   "execution_count": 2,
   "id": "a068a7df",
   "metadata": {},
   "outputs": [],
   "source": [
    "data = pd.read_csv('tv_shows.csv')"
   ]
  },
  {
   "cell_type": "code",
   "execution_count": 3,
   "id": "01ce2af3",
   "metadata": {},
   "outputs": [
    {
     "name": "stdout",
     "output_type": "stream",
     "text": [
      "<class 'pandas.core.frame.DataFrame'>\n",
      "RangeIndex: 5368 entries, 0 to 5367\n",
      "Data columns (total 12 columns):\n",
      " #   Column           Non-Null Count  Dtype \n",
      "---  ------           --------------  ----- \n",
      " 0   Unnamed: 0       5368 non-null   int64 \n",
      " 1   ID               5368 non-null   int64 \n",
      " 2   Title            5368 non-null   object\n",
      " 3   Year             5368 non-null   int64 \n",
      " 4   Age              3241 non-null   object\n",
      " 5   IMDb             4406 non-null   object\n",
      " 6   Rotten Tomatoes  5368 non-null   object\n",
      " 7   Netflix          5368 non-null   int64 \n",
      " 8   Hulu             5368 non-null   int64 \n",
      " 9   Prime Video      5368 non-null   int64 \n",
      " 10  Disney+          5368 non-null   int64 \n",
      " 11  Type             5368 non-null   int64 \n",
      "dtypes: int64(8), object(4)\n",
      "memory usage: 503.4+ KB\n"
     ]
    }
   ],
   "source": [
    "data.info()"
   ]
  },
  {
   "cell_type": "code",
   "execution_count": 4,
   "id": "ef2e23c0",
   "metadata": {},
   "outputs": [
    {
     "data": {
      "text/plain": [
       "pandas.core.frame.DataFrame"
      ]
     },
     "execution_count": 4,
     "metadata": {},
     "output_type": "execute_result"
    }
   ],
   "source": [
    "type(data)"
   ]
  },
  {
   "cell_type": "code",
   "execution_count": 5,
   "id": "3bc26c19",
   "metadata": {},
   "outputs": [
    {
     "data": {
      "text/plain": [
       "(5368, 12)"
      ]
     },
     "execution_count": 5,
     "metadata": {},
     "output_type": "execute_result"
    }
   ],
   "source": [
    "data.shape"
   ]
  },
  {
   "cell_type": "code",
   "execution_count": 6,
   "id": "711fbbc1",
   "metadata": {},
   "outputs": [
    {
     "data": {
      "text/html": [
       "<div>\n",
       "<style scoped>\n",
       "    .dataframe tbody tr th:only-of-type {\n",
       "        vertical-align: middle;\n",
       "    }\n",
       "\n",
       "    .dataframe tbody tr th {\n",
       "        vertical-align: top;\n",
       "    }\n",
       "\n",
       "    .dataframe thead th {\n",
       "        text-align: right;\n",
       "    }\n",
       "</style>\n",
       "<table border=\"1\" class=\"dataframe\">\n",
       "  <thead>\n",
       "    <tr style=\"text-align: right;\">\n",
       "      <th></th>\n",
       "      <th>Unnamed: 0</th>\n",
       "      <th>ID</th>\n",
       "      <th>Title</th>\n",
       "      <th>Year</th>\n",
       "      <th>Age</th>\n",
       "      <th>IMDb</th>\n",
       "      <th>Rotten Tomatoes</th>\n",
       "      <th>Netflix</th>\n",
       "      <th>Hulu</th>\n",
       "      <th>Prime Video</th>\n",
       "      <th>Disney+</th>\n",
       "      <th>Type</th>\n",
       "    </tr>\n",
       "  </thead>\n",
       "  <tbody>\n",
       "    <tr>\n",
       "      <th>0</th>\n",
       "      <td>0</td>\n",
       "      <td>1</td>\n",
       "      <td>Breaking Bad</td>\n",
       "      <td>2008</td>\n",
       "      <td>18+</td>\n",
       "      <td>9.4/10</td>\n",
       "      <td>100/100</td>\n",
       "      <td>1</td>\n",
       "      <td>0</td>\n",
       "      <td>0</td>\n",
       "      <td>0</td>\n",
       "      <td>1</td>\n",
       "    </tr>\n",
       "    <tr>\n",
       "      <th>1</th>\n",
       "      <td>1</td>\n",
       "      <td>2</td>\n",
       "      <td>Stranger Things</td>\n",
       "      <td>2016</td>\n",
       "      <td>16+</td>\n",
       "      <td>8.7/10</td>\n",
       "      <td>96/100</td>\n",
       "      <td>1</td>\n",
       "      <td>0</td>\n",
       "      <td>0</td>\n",
       "      <td>0</td>\n",
       "      <td>1</td>\n",
       "    </tr>\n",
       "    <tr>\n",
       "      <th>2</th>\n",
       "      <td>2</td>\n",
       "      <td>3</td>\n",
       "      <td>Attack on Titan</td>\n",
       "      <td>2013</td>\n",
       "      <td>18+</td>\n",
       "      <td>9.0/10</td>\n",
       "      <td>95/100</td>\n",
       "      <td>1</td>\n",
       "      <td>1</td>\n",
       "      <td>0</td>\n",
       "      <td>0</td>\n",
       "      <td>1</td>\n",
       "    </tr>\n",
       "    <tr>\n",
       "      <th>3</th>\n",
       "      <td>3</td>\n",
       "      <td>4</td>\n",
       "      <td>Better Call Saul</td>\n",
       "      <td>2015</td>\n",
       "      <td>18+</td>\n",
       "      <td>8.8/10</td>\n",
       "      <td>94/100</td>\n",
       "      <td>1</td>\n",
       "      <td>0</td>\n",
       "      <td>0</td>\n",
       "      <td>0</td>\n",
       "      <td>1</td>\n",
       "    </tr>\n",
       "    <tr>\n",
       "      <th>4</th>\n",
       "      <td>4</td>\n",
       "      <td>5</td>\n",
       "      <td>Dark</td>\n",
       "      <td>2017</td>\n",
       "      <td>16+</td>\n",
       "      <td>8.8/10</td>\n",
       "      <td>93/100</td>\n",
       "      <td>1</td>\n",
       "      <td>0</td>\n",
       "      <td>0</td>\n",
       "      <td>0</td>\n",
       "      <td>1</td>\n",
       "    </tr>\n",
       "  </tbody>\n",
       "</table>\n",
       "</div>"
      ],
      "text/plain": [
       "   Unnamed: 0  ID             Title  Year  Age    IMDb Rotten Tomatoes  \\\n",
       "0           0   1      Breaking Bad  2008  18+  9.4/10         100/100   \n",
       "1           1   2   Stranger Things  2016  16+  8.7/10          96/100   \n",
       "2           2   3   Attack on Titan  2013  18+  9.0/10          95/100   \n",
       "3           3   4  Better Call Saul  2015  18+  8.8/10          94/100   \n",
       "4           4   5              Dark  2017  16+  8.8/10          93/100   \n",
       "\n",
       "   Netflix  Hulu  Prime Video  Disney+  Type  \n",
       "0        1     0            0        0     1  \n",
       "1        1     0            0        0     1  \n",
       "2        1     1            0        0     1  \n",
       "3        1     0            0        0     1  \n",
       "4        1     0            0        0     1  "
      ]
     },
     "execution_count": 6,
     "metadata": {},
     "output_type": "execute_result"
    }
   ],
   "source": [
    "data.head()"
   ]
  },
  {
   "cell_type": "code",
   "execution_count": 8,
   "id": "2d0a2678",
   "metadata": {},
   "outputs": [
    {
     "data": {
      "text/html": [
       "<div>\n",
       "<style scoped>\n",
       "    .dataframe tbody tr th:only-of-type {\n",
       "        vertical-align: middle;\n",
       "    }\n",
       "\n",
       "    .dataframe tbody tr th {\n",
       "        vertical-align: top;\n",
       "    }\n",
       "\n",
       "    .dataframe thead th {\n",
       "        text-align: right;\n",
       "    }\n",
       "</style>\n",
       "<table border=\"1\" class=\"dataframe\">\n",
       "  <thead>\n",
       "    <tr style=\"text-align: right;\">\n",
       "      <th></th>\n",
       "      <th>Unnamed: 0</th>\n",
       "      <th>ID</th>\n",
       "      <th>Title</th>\n",
       "      <th>Year</th>\n",
       "      <th>Age</th>\n",
       "      <th>IMDb</th>\n",
       "      <th>Rotten Tomatoes</th>\n",
       "      <th>Netflix</th>\n",
       "      <th>Hulu</th>\n",
       "      <th>Prime Video</th>\n",
       "      <th>Disney+</th>\n",
       "      <th>Type</th>\n",
       "    </tr>\n",
       "  </thead>\n",
       "  <tbody>\n",
       "    <tr>\n",
       "      <th>5363</th>\n",
       "      <td>5363</td>\n",
       "      <td>5713</td>\n",
       "      <td>Paradise Islands</td>\n",
       "      <td>2017</td>\n",
       "      <td>NaN</td>\n",
       "      <td>NaN</td>\n",
       "      <td>10/100</td>\n",
       "      <td>0</td>\n",
       "      <td>0</td>\n",
       "      <td>0</td>\n",
       "      <td>1</td>\n",
       "      <td>1</td>\n",
       "    </tr>\n",
       "    <tr>\n",
       "      <th>5364</th>\n",
       "      <td>5364</td>\n",
       "      <td>5714</td>\n",
       "      <td>Mexico Untamed</td>\n",
       "      <td>2018</td>\n",
       "      <td>NaN</td>\n",
       "      <td>NaN</td>\n",
       "      <td>10/100</td>\n",
       "      <td>0</td>\n",
       "      <td>0</td>\n",
       "      <td>0</td>\n",
       "      <td>1</td>\n",
       "      <td>1</td>\n",
       "    </tr>\n",
       "    <tr>\n",
       "      <th>5365</th>\n",
       "      <td>5365</td>\n",
       "      <td>5715</td>\n",
       "      <td>Wild Centeral America</td>\n",
       "      <td>2020</td>\n",
       "      <td>NaN</td>\n",
       "      <td>NaN</td>\n",
       "      <td>10/100</td>\n",
       "      <td>0</td>\n",
       "      <td>0</td>\n",
       "      <td>0</td>\n",
       "      <td>1</td>\n",
       "      <td>1</td>\n",
       "    </tr>\n",
       "    <tr>\n",
       "      <th>5366</th>\n",
       "      <td>5366</td>\n",
       "      <td>5716</td>\n",
       "      <td>Wild Russia</td>\n",
       "      <td>2018</td>\n",
       "      <td>NaN</td>\n",
       "      <td>NaN</td>\n",
       "      <td>10/100</td>\n",
       "      <td>0</td>\n",
       "      <td>0</td>\n",
       "      <td>0</td>\n",
       "      <td>1</td>\n",
       "      <td>1</td>\n",
       "    </tr>\n",
       "    <tr>\n",
       "      <th>5367</th>\n",
       "      <td>5367</td>\n",
       "      <td>5717</td>\n",
       "      <td>Fearless Adventures with Jack Randall</td>\n",
       "      <td>2018</td>\n",
       "      <td>NaN</td>\n",
       "      <td>NaN</td>\n",
       "      <td>10/100</td>\n",
       "      <td>0</td>\n",
       "      <td>0</td>\n",
       "      <td>0</td>\n",
       "      <td>1</td>\n",
       "      <td>1</td>\n",
       "    </tr>\n",
       "  </tbody>\n",
       "</table>\n",
       "</div>"
      ],
      "text/plain": [
       "      Unnamed: 0    ID                                  Title  Year  Age IMDb  \\\n",
       "5363        5363  5713                       Paradise Islands  2017  NaN  NaN   \n",
       "5364        5364  5714                         Mexico Untamed  2018  NaN  NaN   \n",
       "5365        5365  5715                  Wild Centeral America  2020  NaN  NaN   \n",
       "5366        5366  5716                            Wild Russia  2018  NaN  NaN   \n",
       "5367        5367  5717  Fearless Adventures with Jack Randall  2018  NaN  NaN   \n",
       "\n",
       "     Rotten Tomatoes  Netflix  Hulu  Prime Video  Disney+  Type  \n",
       "5363          10/100        0     0            0        1     1  \n",
       "5364          10/100        0     0            0        1     1  \n",
       "5365          10/100        0     0            0        1     1  \n",
       "5366          10/100        0     0            0        1     1  \n",
       "5367          10/100        0     0            0        1     1  "
      ]
     },
     "execution_count": 8,
     "metadata": {},
     "output_type": "execute_result"
    }
   ],
   "source": [
    "data.tail()"
   ]
  },
  {
   "cell_type": "code",
   "execution_count": 9,
   "id": "b1eb2c84",
   "metadata": {},
   "outputs": [
    {
     "data": {
      "text/plain": [
       "0        Breaking Bad\n",
       "1     Stranger Things\n",
       "2     Attack on Titan\n",
       "3    Better Call Saul\n",
       "4                Dark\n",
       "Name: Title, dtype: object"
      ]
     },
     "execution_count": 9,
     "metadata": {},
     "output_type": "execute_result"
    }
   ],
   "source": [
    "data['Title'].head()\n"
   ]
  },
  {
   "cell_type": "code",
   "execution_count": 10,
   "id": "d1836d35",
   "metadata": {},
   "outputs": [
    {
     "data": {
      "text/plain": [
       "5363                         Paradise Islands\n",
       "5364                           Mexico Untamed\n",
       "5365                    Wild Centeral America\n",
       "5366                              Wild Russia\n",
       "5367    Fearless Adventures with Jack Randall\n",
       "Name: Title, dtype: object"
      ]
     },
     "execution_count": 10,
     "metadata": {},
     "output_type": "execute_result"
    }
   ],
   "source": [
    "data['Title'].tail()\n"
   ]
  },
  {
   "cell_type": "code",
   "execution_count": 11,
   "id": "9d8dceba",
   "metadata": {},
   "outputs": [
    {
     "data": {
      "text/plain": [
       "2"
      ]
     },
     "execution_count": 11,
     "metadata": {},
     "output_type": "execute_result"
    }
   ],
   "source": [
    "data.ndim"
   ]
  },
  {
   "cell_type": "code",
   "execution_count": 12,
   "id": "fff84cab",
   "metadata": {},
   "outputs": [
    {
     "data": {
      "text/plain": [
       "64416"
      ]
     },
     "execution_count": 12,
     "metadata": {},
     "output_type": "execute_result"
    }
   ],
   "source": [
    "data.size"
   ]
  },
  {
   "cell_type": "code",
   "execution_count": 13,
   "id": "f2286fd8",
   "metadata": {},
   "outputs": [
    {
     "data": {
      "text/plain": [
       "[RangeIndex(start=0, stop=5368, step=1),\n",
       " Index(['Unnamed: 0', 'ID', 'Title', 'Year', 'Age', 'IMDb', 'Rotten Tomatoes',\n",
       "        'Netflix', 'Hulu', 'Prime Video', 'Disney+', 'Type'],\n",
       "       dtype='object')]"
      ]
     },
     "execution_count": 13,
     "metadata": {},
     "output_type": "execute_result"
    }
   ],
   "source": [
    "data.axes"
   ]
  },
  {
   "cell_type": "code",
   "execution_count": 15,
   "id": "df482614",
   "metadata": {},
   "outputs": [
    {
     "data": {
      "text/plain": [
       "Index(['Unnamed: 0', 'ID', 'Title', 'Year', 'Age', 'IMDb', 'Rotten Tomatoes',\n",
       "       'Netflix', 'Hulu', 'Prime Video', 'Disney+', 'Type'],\n",
       "      dtype='object')"
      ]
     },
     "execution_count": 15,
     "metadata": {},
     "output_type": "execute_result"
    }
   ],
   "source": [
    "data.columns"
   ]
  },
  {
   "cell_type": "code",
   "execution_count": 16,
   "id": "5a6e4fb3",
   "metadata": {},
   "outputs": [
    {
     "data": {
      "text/plain": [
       "Unnamed: 0          int64\n",
       "ID                  int64\n",
       "Title              object\n",
       "Year                int64\n",
       "Age                object\n",
       "IMDb               object\n",
       "Rotten Tomatoes    object\n",
       "Netflix             int64\n",
       "Hulu                int64\n",
       "Prime Video         int64\n",
       "Disney+             int64\n",
       "Type                int64\n",
       "dtype: object"
      ]
     },
     "execution_count": 16,
     "metadata": {},
     "output_type": "execute_result"
    }
   ],
   "source": [
    "data.dtypes"
   ]
  },
  {
   "cell_type": "code",
   "execution_count": 17,
   "id": "3dc71471",
   "metadata": {},
   "outputs": [
    {
     "data": {
      "text/plain": [
       "False"
      ]
     },
     "execution_count": 17,
     "metadata": {},
     "output_type": "execute_result"
    }
   ],
   "source": [
    "data.empty"
   ]
  },
  {
   "cell_type": "code",
   "execution_count": 18,
   "id": "3e84d588",
   "metadata": {},
   "outputs": [
    {
     "data": {
      "text/plain": [
       "array([0, 1, 'Breaking Bad', 2008, '18+', '9.4/10', '100/100', 1, 0, 0, 0,\n",
       "       1], dtype=object)"
      ]
     },
     "execution_count": 18,
     "metadata": {},
     "output_type": "execute_result"
    }
   ],
   "source": [
    "dt = data.values\n",
    "dt[0]"
   ]
  },
  {
   "cell_type": "code",
   "execution_count": 19,
   "id": "e71a9b99",
   "metadata": {},
   "outputs": [
    {
     "data": {
      "text/plain": [
       "numpy.ndarray"
      ]
     },
     "execution_count": 19,
     "metadata": {},
     "output_type": "execute_result"
    }
   ],
   "source": [
    "type(dt)"
   ]
  },
  {
   "cell_type": "code",
   "execution_count": 20,
   "id": "a3991e55",
   "metadata": {},
   "outputs": [
    {
     "name": "stdout",
     "output_type": "stream",
     "text": [
      "Tv shows on Netflix: 1971 / 5368\n",
      "Tv shows on Hulu: 1621 / 5368\n",
      "Tv shows on Prime Video: 1831 / 5368\n",
      "Tv shows on Disney+: 351 / 5368\n"
     ]
    }
   ],
   "source": [
    "print('Tv shows on Netflix:',data['Netflix'].sum(),'/',data['Netflix'].count())\n",
    "print('Tv shows on Hulu:',data['Hulu'].sum(),'/',data['Hulu'].count())\n",
    "print('Tv shows on Prime Video:',data['Prime Video'].sum(),'/',data['Prime Video'].count())\n",
    "print('Tv shows on Disney+:',data['Disney+'].sum(),'/',data['Disney+'].count())"
   ]
  },
  {
   "cell_type": "code",
   "execution_count": 21,
   "id": "d352d679",
   "metadata": {},
   "outputs": [
    {
     "data": {
      "text/html": [
       "<div>\n",
       "<style scoped>\n",
       "    .dataframe tbody tr th:only-of-type {\n",
       "        vertical-align: middle;\n",
       "    }\n",
       "\n",
       "    .dataframe tbody tr th {\n",
       "        vertical-align: top;\n",
       "    }\n",
       "\n",
       "    .dataframe thead th {\n",
       "        text-align: right;\n",
       "    }\n",
       "</style>\n",
       "<table border=\"1\" class=\"dataframe\">\n",
       "  <thead>\n",
       "    <tr style=\"text-align: right;\">\n",
       "      <th></th>\n",
       "      <th>Unnamed: 0</th>\n",
       "      <th>ID</th>\n",
       "      <th>Title</th>\n",
       "      <th>Year</th>\n",
       "      <th>Age</th>\n",
       "      <th>IMDb</th>\n",
       "      <th>Rotten Tomatoes</th>\n",
       "      <th>Netflix</th>\n",
       "      <th>Hulu</th>\n",
       "      <th>Prime Video</th>\n",
       "      <th>Disney+</th>\n",
       "      <th>Type</th>\n",
       "    </tr>\n",
       "  </thead>\n",
       "  <tbody>\n",
       "    <tr>\n",
       "      <th>count</th>\n",
       "      <td>5368.000000</td>\n",
       "      <td>5368.000000</td>\n",
       "      <td>5368</td>\n",
       "      <td>5368.000000</td>\n",
       "      <td>3241</td>\n",
       "      <td>4406</td>\n",
       "      <td>5368</td>\n",
       "      <td>5368.000000</td>\n",
       "      <td>5368.000000</td>\n",
       "      <td>5368.000000</td>\n",
       "      <td>5368.000000</td>\n",
       "      <td>5368.0</td>\n",
       "    </tr>\n",
       "    <tr>\n",
       "      <th>unique</th>\n",
       "      <td>NaN</td>\n",
       "      <td>NaN</td>\n",
       "      <td>5368</td>\n",
       "      <td>NaN</td>\n",
       "      <td>5</td>\n",
       "      <td>78</td>\n",
       "      <td>85</td>\n",
       "      <td>NaN</td>\n",
       "      <td>NaN</td>\n",
       "      <td>NaN</td>\n",
       "      <td>NaN</td>\n",
       "      <td>NaN</td>\n",
       "    </tr>\n",
       "    <tr>\n",
       "      <th>top</th>\n",
       "      <td>NaN</td>\n",
       "      <td>NaN</td>\n",
       "      <td>Breaking Bad</td>\n",
       "      <td>NaN</td>\n",
       "      <td>16+</td>\n",
       "      <td>7.4/10</td>\n",
       "      <td>10/100</td>\n",
       "      <td>NaN</td>\n",
       "      <td>NaN</td>\n",
       "      <td>NaN</td>\n",
       "      <td>NaN</td>\n",
       "      <td>NaN</td>\n",
       "    </tr>\n",
       "    <tr>\n",
       "      <th>freq</th>\n",
       "      <td>NaN</td>\n",
       "      <td>NaN</td>\n",
       "      <td>1</td>\n",
       "      <td>NaN</td>\n",
       "      <td>995</td>\n",
       "      <td>208</td>\n",
       "      <td>304</td>\n",
       "      <td>NaN</td>\n",
       "      <td>NaN</td>\n",
       "      <td>NaN</td>\n",
       "      <td>NaN</td>\n",
       "      <td>NaN</td>\n",
       "    </tr>\n",
       "    <tr>\n",
       "      <th>mean</th>\n",
       "      <td>2683.500000</td>\n",
       "      <td>2814.945790</td>\n",
       "      <td>NaN</td>\n",
       "      <td>2012.628726</td>\n",
       "      <td>NaN</td>\n",
       "      <td>NaN</td>\n",
       "      <td>NaN</td>\n",
       "      <td>0.367176</td>\n",
       "      <td>0.301975</td>\n",
       "      <td>0.341095</td>\n",
       "      <td>0.065387</td>\n",
       "      <td>1.0</td>\n",
       "    </tr>\n",
       "    <tr>\n",
       "      <th>std</th>\n",
       "      <td>1549.752453</td>\n",
       "      <td>1672.385727</td>\n",
       "      <td>NaN</td>\n",
       "      <td>10.142813</td>\n",
       "      <td>NaN</td>\n",
       "      <td>NaN</td>\n",
       "      <td>NaN</td>\n",
       "      <td>0.482080</td>\n",
       "      <td>0.459157</td>\n",
       "      <td>0.474122</td>\n",
       "      <td>0.247231</td>\n",
       "      <td>0.0</td>\n",
       "    </tr>\n",
       "    <tr>\n",
       "      <th>min</th>\n",
       "      <td>0.000000</td>\n",
       "      <td>1.000000</td>\n",
       "      <td>NaN</td>\n",
       "      <td>1904.000000</td>\n",
       "      <td>NaN</td>\n",
       "      <td>NaN</td>\n",
       "      <td>NaN</td>\n",
       "      <td>0.000000</td>\n",
       "      <td>0.000000</td>\n",
       "      <td>0.000000</td>\n",
       "      <td>0.000000</td>\n",
       "      <td>1.0</td>\n",
       "    </tr>\n",
       "    <tr>\n",
       "      <th>25%</th>\n",
       "      <td>1341.750000</td>\n",
       "      <td>1345.750000</td>\n",
       "      <td>NaN</td>\n",
       "      <td>2011.000000</td>\n",
       "      <td>NaN</td>\n",
       "      <td>NaN</td>\n",
       "      <td>NaN</td>\n",
       "      <td>0.000000</td>\n",
       "      <td>0.000000</td>\n",
       "      <td>0.000000</td>\n",
       "      <td>0.000000</td>\n",
       "      <td>1.0</td>\n",
       "    </tr>\n",
       "    <tr>\n",
       "      <th>50%</th>\n",
       "      <td>2683.500000</td>\n",
       "      <td>2788.000000</td>\n",
       "      <td>NaN</td>\n",
       "      <td>2016.000000</td>\n",
       "      <td>NaN</td>\n",
       "      <td>NaN</td>\n",
       "      <td>NaN</td>\n",
       "      <td>0.000000</td>\n",
       "      <td>0.000000</td>\n",
       "      <td>0.000000</td>\n",
       "      <td>0.000000</td>\n",
       "      <td>1.0</td>\n",
       "    </tr>\n",
       "    <tr>\n",
       "      <th>75%</th>\n",
       "      <td>4025.250000</td>\n",
       "      <td>4308.250000</td>\n",
       "      <td>NaN</td>\n",
       "      <td>2018.000000</td>\n",
       "      <td>NaN</td>\n",
       "      <td>NaN</td>\n",
       "      <td>NaN</td>\n",
       "      <td>1.000000</td>\n",
       "      <td>1.000000</td>\n",
       "      <td>1.000000</td>\n",
       "      <td>0.000000</td>\n",
       "      <td>1.0</td>\n",
       "    </tr>\n",
       "    <tr>\n",
       "      <th>max</th>\n",
       "      <td>5367.000000</td>\n",
       "      <td>5717.000000</td>\n",
       "      <td>NaN</td>\n",
       "      <td>2021.000000</td>\n",
       "      <td>NaN</td>\n",
       "      <td>NaN</td>\n",
       "      <td>NaN</td>\n",
       "      <td>1.000000</td>\n",
       "      <td>1.000000</td>\n",
       "      <td>1.000000</td>\n",
       "      <td>1.000000</td>\n",
       "      <td>1.0</td>\n",
       "    </tr>\n",
       "  </tbody>\n",
       "</table>\n",
       "</div>"
      ],
      "text/plain": [
       "         Unnamed: 0           ID         Title         Year   Age    IMDb  \\\n",
       "count   5368.000000  5368.000000          5368  5368.000000  3241    4406   \n",
       "unique          NaN          NaN          5368          NaN     5      78   \n",
       "top             NaN          NaN  Breaking Bad          NaN   16+  7.4/10   \n",
       "freq            NaN          NaN             1          NaN   995     208   \n",
       "mean    2683.500000  2814.945790           NaN  2012.628726   NaN     NaN   \n",
       "std     1549.752453  1672.385727           NaN    10.142813   NaN     NaN   \n",
       "min        0.000000     1.000000           NaN  1904.000000   NaN     NaN   \n",
       "25%     1341.750000  1345.750000           NaN  2011.000000   NaN     NaN   \n",
       "50%     2683.500000  2788.000000           NaN  2016.000000   NaN     NaN   \n",
       "75%     4025.250000  4308.250000           NaN  2018.000000   NaN     NaN   \n",
       "max     5367.000000  5717.000000           NaN  2021.000000   NaN     NaN   \n",
       "\n",
       "       Rotten Tomatoes      Netflix         Hulu  Prime Video      Disney+  \\\n",
       "count             5368  5368.000000  5368.000000  5368.000000  5368.000000   \n",
       "unique              85          NaN          NaN          NaN          NaN   \n",
       "top             10/100          NaN          NaN          NaN          NaN   \n",
       "freq               304          NaN          NaN          NaN          NaN   \n",
       "mean               NaN     0.367176     0.301975     0.341095     0.065387   \n",
       "std                NaN     0.482080     0.459157     0.474122     0.247231   \n",
       "min                NaN     0.000000     0.000000     0.000000     0.000000   \n",
       "25%                NaN     0.000000     0.000000     0.000000     0.000000   \n",
       "50%                NaN     0.000000     0.000000     0.000000     0.000000   \n",
       "75%                NaN     1.000000     1.000000     1.000000     0.000000   \n",
       "max                NaN     1.000000     1.000000     1.000000     1.000000   \n",
       "\n",
       "          Type  \n",
       "count   5368.0  \n",
       "unique     NaN  \n",
       "top        NaN  \n",
       "freq       NaN  \n",
       "mean       1.0  \n",
       "std        0.0  \n",
       "min        1.0  \n",
       "25%        1.0  \n",
       "50%        1.0  \n",
       "75%        1.0  \n",
       "max        1.0  "
      ]
     },
     "execution_count": 21,
     "metadata": {},
     "output_type": "execute_result"
    }
   ],
   "source": [
    "data.describe(include='all')\n"
   ]
  },
  {
   "cell_type": "code",
   "execution_count": 90,
   "id": "3fbb7aaa",
   "metadata": {
    "scrolled": true
   },
   "outputs": [
    {
     "data": {
      "text/plain": [
       "<seaborn.axisgrid.FacetGrid at 0x20af5757190>"
      ]
     },
     "execution_count": 90,
     "metadata": {},
     "output_type": "execute_result"
    },
    {
     "data": {
      "image/png": "[encoded data removed]",
      "text/plain": [
       "<Figure size 1080x720 with 1 Axes>"
      ]
     },
     "metadata": {
      "needs_background": "light"
     },
     "output_type": "display_data"
    }
   ],
   "source": [
    "#top 50 IMDb rated TV shows\n",
    "sns.catplot(x=\"IMDb\", y=\"Title\", kind=\"bar\", data=data.sort_values(\"IMDb\",ascending=False).head(50), height=10, aspect=1.5)\n"
   ]
  },
  {
   "cell_type": "code",
   "execution_count": 89,
   "id": "a8a8dbee",
   "metadata": {},
   "outputs": [
    {
     "data": {
      "text/plain": [
       "<AxesSubplot:xlabel='IMDb', ylabel='Year'>"
      ]
     },
     "execution_count": 89,
     "metadata": {},
     "output_type": "execute_result"
    },
    {
     "data": {
      "image/png": "[encoded data removed]",
      "text/plain": [
       "<Figure size 432x288 with 1 Axes>"
      ]
     },
     "metadata": {
      "needs_background": "light"
     },
     "output_type": "display_data"
    }
   ],
   "source": [
    "# `IMDb` sütununu `/` karakterine göre bölme\n",
    "imdb_split = data['IMDb'].str.split('/')\n",
    "# sadece ondalık kısmı alarak, `float` veri tipine dönüştürme\n",
    "imdb_float = imdb_split.str[0].astype(float)\n",
    "# `IMDb` sütununu değiştirme\n",
    "data['IMDb'] = imdb_float\n",
    "\n",
    "data.plot.scatter(x='IMDb', y='Year')"
   ]
  },
  {
   "cell_type": "code",
   "execution_count": 91,
   "id": "e8d9101e",
   "metadata": {},
   "outputs": [
    {
     "data": {
      "image/png": "[encoded data removed]",
      "text/plain": [
       "<Figure size 432x288 with 1 Axes>"
      ]
     },
     "metadata": {},
     "output_type": "display_data"
    }
   ],
   "source": [
    "#quantity of shows on various platforms present in the dataset\n",
    "labels = 'Netflix' , 'Hulu', 'Prime Video', 'Disney+'\n",
    "sizes = [data['Netflix'].sum(),data['Hulu'].sum(),data['Prime Video'].sum(),data['Disney+'].sum()]\n",
    "explode = (0.1, 0.1, 0.1, 0.1 )\n",
    "\n",
    "fig1 , ax1 = plt.subplots()\n",
    "\n",
    "ax1.pie(sizes,\n",
    "        explode = explode,\n",
    "        labels = labels,\n",
    "        autopct = '%1.1f%%',\n",
    "        shadow = True,\n",
    "        startangle = 100)\n",
    "\n",
    "ax1.axis ('equal')\n",
    "plt.show()"
   ]
  },
  {
   "cell_type": "code",
   "execution_count": 92,
   "id": "2462cda7",
   "metadata": {},
   "outputs": [],
   "source": [
    "netflix_shows = data.loc[data['Netflix'] == 1]\n",
    "hulu_shows = data.loc[data['Hulu'] == 1]\n",
    "prime_video_shows = data.loc[data['Prime Video'] == 1]\n",
    "disney_shows = data.loc[data['Disney+'] == 1]"
   ]
  },
  {
   "cell_type": "code",
   "execution_count": 93,
   "id": "2fc609cb",
   "metadata": {},
   "outputs": [],
   "source": [
    "#list of top shows on netflix\n",
    "netflix_top_shows = netflix_shows.loc[netflix_shows['IMDb']>8.0]\n",
    "hulu_top_shows = hulu_shows.loc[hulu_shows['IMDb']>8.0]\n",
    "prime_video_top_shows = prime_video_shows.loc[prime_video_shows['IMDb']>8.0]\n",
    "disney_top_shows = disney_shows.loc[disney_shows['IMDb']>8.0]"
   ]
  },
  {
   "cell_type": "code",
   "execution_count": 94,
   "id": "4d8c6d84",
   "metadata": {},
   "outputs": [
    {
     "data": {
      "text/plain": [
       "2825.6"
      ]
     },
     "execution_count": 94,
     "metadata": {},
     "output_type": "execute_result"
    }
   ],
   "source": [
    "netflix_top_shows['IMDb'].sum()"
   ]
  },
  {
   "cell_type": "code",
   "execution_count": 95,
   "id": "2e30adc2",
   "metadata": {},
   "outputs": [],
   "source": [
    "#lets plot a bar graph of platforms with highest IMDb shows\n",
    "platform = ['Netflix', 'Hulu', 'Prime Video', 'Disney+']\n",
    "count = [netflix_top_shows['IMDb'].sum(),hulu_top_shows['IMDb'].sum(),prime_video_top_shows['IMDb'].sum(),disney_top_shows['IMDb'].sum()]"
   ]
  },
  {
   "cell_type": "code",
   "execution_count": 96,
   "id": "1140a08a",
   "metadata": {},
   "outputs": [
    {
     "data": {
      "image/png": "[encoded data removed]",
      "text/plain": [
       "<Figure size 432x288 with 1 Axes>"
      ]
     },
     "metadata": {
      "needs_background": "light"
     },
     "output_type": "display_data"
    }
   ],
   "source": [
    "fig = plt.figure()\n",
    "ax = fig.add_axes([1,1,1,1])\n",
    "ax.bar(platform,count)\n",
    "plt.show()"
   ]
  },
  {
   "cell_type": "code",
   "execution_count": 97,
   "id": "5da46b2d",
   "metadata": {},
   "outputs": [
    {
     "data": {
      "image/png": "[encoded data removed]",
      "text/plain": [
       "<Figure size 1080x720 with 1 Axes>"
      ]
     },
     "metadata": {
      "needs_background": "light"
     },
     "output_type": "display_data"
    }
   ],
   "source": [
    "#Platform with most shows rated above 8+ (IMDB)\n",
    "plt.figure(figsize = (15, 10))\n",
    "sns.barplot(\n",
    "           x = platform,\n",
    "           y = count\n",
    ")\n",
    "plt.xlabel('Platform')\n",
    "plt.ylabel('Total number of showsrated above 8')\n",
    "plt.title('Platform with most shows rated above 8+ (IMDB)')\n",
    "plt.show()"
   ]
  },
  {
   "cell_type": "code",
   "execution_count": 98,
   "id": "c8bae432",
   "metadata": {},
   "outputs": [
    {
     "data": {
      "image/png": "[encoded data removed]",
      "text/plain": [
       "<Figure size 1080x720 with 1 Axes>"
      ]
     },
     "metadata": {
      "needs_background": "light"
     },
     "output_type": "display_data"
    }
   ],
   "source": [
    "#lets plot a bar graph of years with highest IMDb shows\n",
    "top1990_shows = data.loc[(data['IMDb'] >= 8.0) & (data['Year']<= 1990)]\n",
    "top2000_shows = data.loc[(data['IMDb']>=8.0) & (data['Year']>1990) & (data['Year']<=2000)]\n",
    "top2010_shows = data.loc[(data['IMDb']>=8.0) & (data['Year']>2000)&(data['Year']<=2010)]\n",
    "top2020_shows = data.loc[(data['IMDb']>=8.0) & (data['Year']>2010)&(data['Year']<=2020)]\n",
    "years = ['< 1990', '1990 - 2000', '2001-2010', '2011-2020']\n",
    "counts = [top1990_shows['IMDb'].sum(),top2000_shows['IMDb'].sum(),top2010_shows['IMDb'].sum(),top2010_shows['IMDb'].sum()]\n",
    "\n",
    "plt.figure(figsize = (15, 10))\n",
    "sns.barplot(\n",
    "           x = years,\n",
    "           y = counts\n",
    ")\n",
    "plt.xlabel('Years')\n",
    "plt.ylabel('Total number of showsrated above 8')\n",
    "plt.title('Years with most shows rated above 8+ (IMDB)')\n",
    "plt.show()"
   ]
  },
  {
   "cell_type": "code",
   "execution_count": 99,
   "id": "07705993",
   "metadata": {},
   "outputs": [],
   "source": [
    "all_rated = data.loc[data['Age']=='all']\n",
    "_16_rated = data.loc[data['Age']=='16+']\n",
    "_18_rated = data.loc[data['Age']=='18+']"
   ]
  },
  {
   "cell_type": "code",
   "execution_count": 100,
   "id": "0160ca2e",
   "metadata": {},
   "outputs": [
    {
     "name": "stdout",
     "output_type": "stream",
     "text": [
      "552\n",
      "995\n",
      "854\n"
     ]
    }
   ],
   "source": [
    "print(len(all_rated))\n",
    "print(len(_16_rated))\n",
    "print(len(_18_rated))"
   ]
  },
  {
   "cell_type": "code",
   "execution_count": 101,
   "id": "d95118d4",
   "metadata": {},
   "outputs": [
    {
     "data": {
      "image/png": "[encoded data removed]",
      "text/plain": [
       "<Figure size 1080x720 with 1 Axes>"
      ]
     },
     "metadata": {
      "needs_background": "light"
     },
     "output_type": "display_data"
    }
   ],
   "source": [
    "age = ['Shows for all', '16+', '18+']\n",
    "counts = [len(all_rated),len(_16_rated),len(_18_rated)]\n",
    "\n",
    "plt.figure(figsize = (15, 10))\n",
    "sns.barplot(\n",
    "           x = age,\n",
    "           y = counts\n",
    ")\n",
    "plt.xlabel('Age')\n",
    "plt.ylabel('Count of Tv Shows under age restrcition')\n",
    "plt.title('Age restriction')\n",
    "plt.show()"
   ]
  },
  {
   "cell_type": "code",
   "execution_count": 102,
   "id": "4c1abfc4",
   "metadata": {},
   "outputs": [],
   "source": [
    "# movie with IMDb 8+ which are for all age groups\n",
    "all_rated_high_rate = all_rated.loc[all_rated['IMDb']>=8.0]\n",
    "rated_16_high_rate = _16_rated.loc[_16_rated['IMDb']>=8.0]\n",
    "rated_18_high_rate = _18_rated.loc[_18_rated['IMDb']>=8.0]"
   ]
  },
  {
   "cell_type": "code",
   "execution_count": 103,
   "id": "3a5a768d",
   "metadata": {},
   "outputs": [
    {
     "data": {
      "text/plain": [
       "232"
      ]
     },
     "execution_count": 103,
     "metadata": {},
     "output_type": "execute_result"
    }
   ],
   "source": [
    "all_rated_high_rate['Title'].count()\n",
    "rated_16_high_rate['Title'].count()\n",
    "rated_18_high_rate['Title'].count()"
   ]
  },
  {
   "cell_type": "code",
   "execution_count": 104,
   "id": "14911890",
   "metadata": {},
   "outputs": [
    {
     "data": {
      "image/png": "[encoded data removed]",
      "text/plain": [
       "<Figure size 1080x720 with 1 Axes>"
      ]
     },
     "metadata": {
      "needs_background": "light"
     },
     "output_type": "display_data"
    }
   ],
   "source": [
    "#Top IMDb rated Shows analysed on basis of age group\n",
    "age = ['Shows for all', '16+', '18+']\n",
    "counts = [len(all_rated_high_rate),len(rated_16_high_rate),len(rated_18_high_rate)]\n",
    "\n",
    "plt.figure(figsize = (15, 10))\n",
    "sns.barplot(\n",
    "           x = age,\n",
    "           y = counts\n",
    ")\n",
    "plt.xlabel('Age Group')\n",
    "plt.ylabel('Count')\n",
    "plt.title('Top IMDb rated shows analysed on basis of age group')\n",
    "plt.show()"
   ]
  },
  {
   "cell_type": "code",
   "execution_count": 105,
   "id": "51108fb0",
   "metadata": {},
   "outputs": [],
   "source": [
    "#Must watch shows\n",
    "must_watch = data.loc[data['IMDb']>9.0]"
   ]
  },
  {
   "cell_type": "code",
   "execution_count": 106,
   "id": "2a6409e6",
   "metadata": {},
   "outputs": [
    {
     "data": {
      "text/plain": [
       "0                            Breaking Bad\n",
       "5              Avatar: The Last Airbender\n",
       "25       Fullmetal Alchemist: Brotherhood\n",
       "36                         The Last Dance\n",
       "80                             Our Planet\n",
       "201                      Leyla ile Mecnun\n",
       "349                            Reply 1988\n",
       "401                             My Mister\n",
       "450                         Word of Honor\n",
       "1001                               Okupas\n",
       "1950                       Rick and Morty\n",
       "2009                               Cosmos\n",
       "3115                         Hungry Henry\n",
       "3503                      Clarkson's Farm\n",
       "3611                         Malgudi Days\n",
       "3760                      Everyday Driver\n",
       "3771              Harmony with A R Rahman\n",
       "3780                       Free to Choose\n",
       "3802    The Secret World of Nature: Spain\n",
       "4068                    Junk Drawer Magic\n",
       "4106                       Becoming a Man\n",
       "5077                                Bluey\n",
       "5106              Cosmos: Possible Worlds\n",
       "5207                  Heartland Docs, DVM\n",
       "5277                 Alaska Animal Rescue\n",
       "Name: Title, dtype: object"
      ]
     },
     "execution_count": 106,
     "metadata": {},
     "output_type": "execute_result"
    }
   ],
   "source": [
    "must_watch['Title']"
   ]
  },
  {
   "cell_type": "code",
   "execution_count": 107,
   "id": "77122b63",
   "metadata": {},
   "outputs": [
    {
     "data": {
      "text/plain": [
       "3802    The Secret World of Nature: Spain\n",
       "5077                                Bluey\n",
       "3611                         Malgudi Days\n",
       "0                            Breaking Bad\n",
       "5277                 Alaska Animal Rescue\n",
       "Name: Title, dtype: object"
      ]
     },
     "execution_count": 107,
     "metadata": {},
     "output_type": "execute_result"
    }
   ],
   "source": [
    "#Top 5 Must watch Shows\n",
    "a = data.sort_values(\"IMDb\",ascending=False).head(5)\n",
    "a['Title']"
   ]
  },
  {
   "cell_type": "code",
   "execution_count": null,
   "id": "327605aa",
   "metadata": {},
   "outputs": [],
   "source": []
  }
 ],
 "metadata": {
  "kernelspec": {
   "display_name": "Python 3 (ipykernel)",
   "language": "python",
   "name": "python3"
  },
  "language_info": {
   "codemirror_mode": {
    "name": "ipython",
    "version": 3
   },
   "file_extension": ".py",
   "mimetype": "text/x-python",
   "name": "python",
   "nbconvert_exporter": "python",
   "pygments_lexer": "ipython3",
   "version": "3.9.7"
  }
 },
 "nbformat": 4,
 "nbformat_minor": 5
}
